{
 "cells": [
  {
   "cell_type": "markdown",
   "metadata": {},
   "source": [
    "![python image](data:image/jpeg;base64,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)"
   ]
  },
  {
   "cell_type": "markdown",
   "metadata": {},
   "source": [
    "___"
   ]
  },
  {
   "cell_type": "markdown",
   "metadata": {},
   "source": [
    "### <font color=red>What Makes Python So Great?</font>\n",
    "\n",
    "According to [w3schools.com](https://www.w3schools.com/python/python_intro.asp)\n",
    "\n",
    "- Python was designed for readability, and has some similarities to the English language with influence from mathematics.\n",
    "\n",
    "\n",
    "- Python uses new lines to complete a command, as opposed to other programming languages which often use semicolons or parentheses.\n",
    "\n",
    "\n",
    "- Python relies on indentation, using whitespace, to define scope; such as the scope of loops, functions and classes. Other programming languages often use curly-brackets for this purpose.\n",
    "\n",
    "- Python has syntax that allows developers to write programs with fewer lines than some other programming languages.\n",
    "\n",
    "\n",
    "- Python runs on an interpreter system, meaning that code can be executed as soon as it is written. This means that prototyping can be very quick."
   ]
  },
  {
   "cell_type": "markdown",
   "metadata": {},
   "source": [
    "### <font color=orange>So What?</font>\n",
    "\n",
    "- Python can be treated in a procedural way, an object-oriented way or a functional way.\n",
    "\n",
    "- Python can connect to database systems. It can also read and modify files.\n",
    "\n",
    "\n",
    "- Python can be used to handle big data and perform complex mathematics.\n",
    "\n",
    "\n",
    "Python also has libraries that invaluable in the field of Data Science such as:\n",
    "\n",
    "![python libraries](https://miro.medium.com/max/603/0*RSHaCzm8VQ-DFQOv)"
   ]
  },
  {
   "cell_type": "markdown",
   "metadata": {},
   "source": [
    "___"
   ]
  },
  {
   "cell_type": "markdown",
   "metadata": {},
   "source": [
    "### <font color=green>Now What?</font>\n",
    "\n",
    "You might want to check and see what version of python you are running by typing the following in your terminal:"
   ]
  },
  {
   "cell_type": "markdown",
   "metadata": {},
   "source": [
    "<p style=\"background:black\">\n",
    "<code style=\"background:black;color:white\">python --version\n",
    "</code>\n",
    "</p>"
   ]
  },
  {
   "cell_type": "markdown",
   "metadata": {},
   "source": [
    "<hr style=\"border-top: 10px groove salmon; margin-top: 1px; margin-bottom: 1px\"></hr>"
   ]
  },
  {
   "cell_type": "markdown",
   "metadata": {},
   "source": [
    "## Data Types"
   ]
  },
  {
   "cell_type": "markdown",
   "metadata": {},
   "source": [
    "<hr style=\"border-top: 10px groove salmon; margin-top: 1px; margin-bottom: 1px\"></hr>"
   ]
  },
  {
   "cell_type": "markdown",
   "metadata": {},
   "source": [
    "#### **Text Type ->** `str`"
   ]
  },
  {
   "cell_type": "markdown",
   "metadata": {},
   "source": [
    "A string can be surrounded by single or double quotation marks. I can have an empty string with no characters or a string can contain multiple words and characters."
   ]
  },
  {
   "cell_type": "markdown",
   "metadata": {},
   "source": [
    "#### `type()` function\n",
    "\n",
    "I can use the built-in function `type()` to check my data type."
   ]
  },
  {
   "cell_type": "code",
   "execution_count": 1,
   "metadata": {},
   "outputs": [
    {
     "data": {
      "text/plain": [
       "str"
      ]
     },
     "execution_count": 1,
     "metadata": {},
     "output_type": "execute_result"
    }
   ],
   "source": [
    "type('Python rocks!')"
   ]
  },
  {
   "cell_type": "code",
   "execution_count": 12,
   "metadata": {},
   "outputs": [
    {
     "data": {
      "text/plain": [
       "str"
      ]
     },
     "execution_count": 12,
     "metadata": {},
     "output_type": "execute_result"
    }
   ],
   "source": [
    "type(\"a\")"
   ]
  },
  {
   "cell_type": "code",
   "execution_count": 13,
   "metadata": {},
   "outputs": [
    {
     "data": {
      "text/plain": [
       "str"
      ]
     },
     "execution_count": 13,
     "metadata": {},
     "output_type": "execute_result"
    }
   ],
   "source": [
    "type('')"
   ]
  },
  {
   "cell_type": "markdown",
   "metadata": {},
   "source": [
    "___"
   ]
  },
  {
   "cell_type": "markdown",
   "metadata": {},
   "source": [
    "#### **Numeric Types ->** `int`, `float`\n",
    "\n",
    "An `int` is a whole number and a `float` is a decimal number. *Jumping ahead a bit, you will find out that missing values are also considered `float` types.*"
   ]
  },
  {
   "cell_type": "code",
   "execution_count": 2,
   "metadata": {},
   "outputs": [
    {
     "data": {
      "text/plain": [
       "int"
      ]
     },
     "execution_count": 2,
     "metadata": {},
     "output_type": "execute_result"
    }
   ],
   "source": [
    "type(7)"
   ]
  },
  {
   "cell_type": "code",
   "execution_count": 3,
   "metadata": {},
   "outputs": [
    {
     "data": {
      "text/plain": [
       "float"
      ]
     },
     "execution_count": 3,
     "metadata": {},
     "output_type": "execute_result"
    }
   ],
   "source": [
    "type(7.5)"
   ]
  },
  {
   "cell_type": "code",
   "execution_count": 16,
   "metadata": {},
   "outputs": [
    {
     "data": {
      "text/plain": [
       "float"
      ]
     },
     "execution_count": 16,
     "metadata": {},
     "output_type": "execute_result"
    }
   ],
   "source": [
    "import numpy as np\n",
    "\n",
    "type(np.NaN)"
   ]
  },
  {
   "cell_type": "markdown",
   "metadata": {},
   "source": [
    "___"
   ]
  },
  {
   "cell_type": "markdown",
   "metadata": {},
   "source": [
    "#### **Boolean Type ->** `bool`\n",
    "\n",
    "Boolean values represent `True` and `False`. Bools are not strings, so they do not go in quotation marks, and they are case sensitive."
   ]
  },
  {
   "cell_type": "markdown",
   "metadata": {},
   "source": [
    "#### `len()` function\n",
    "\n",
    "I can use the built-in function `len()` to return the number of elements in a sequence like a list or set."
   ]
  },
  {
   "cell_type": "code",
   "execution_count": 28,
   "metadata": {},
   "outputs": [
    {
     "data": {
      "text/plain": [
       "bool"
      ]
     },
     "execution_count": 28,
     "metadata": {},
     "output_type": "execute_result"
    }
   ],
   "source": [
    "# The comparison I made above returns `False`, a bool value.\n",
    "\n",
    "type(len([1, 1, 2, 5]) == len({1, 1, 2, 5}))"
   ]
  },
  {
   "cell_type": "code",
   "execution_count": 29,
   "metadata": {},
   "outputs": [
    {
     "data": {
      "text/plain": [
       "True"
      ]
     },
     "execution_count": 29,
     "metadata": {},
     "output_type": "execute_result"
    }
   ],
   "source": [
    "False != True"
   ]
  },
  {
   "cell_type": "markdown",
   "metadata": {},
   "source": [
    "___"
   ]
  },
  {
   "cell_type": "markdown",
   "metadata": {},
   "source": [
    "### Python Arrays (Collections)"
   ]
  },
  {
   "cell_type": "markdown",
   "metadata": {},
   "source": [
    "#### **Sequence Types ->** `list`, `tuple`, `range`"
   ]
  },
  {
   "cell_type": "markdown",
   "metadata": {},
   "source": [
    "A list can contain elements of different data types and is a mutable object. Duplicate values are allowed."
   ]
  },
  {
   "cell_type": "code",
   "execution_count": 30,
   "metadata": {},
   "outputs": [
    {
     "data": {
      "text/plain": [
       "list"
      ]
     },
     "execution_count": 30,
     "metadata": {},
     "output_type": "execute_result"
    }
   ],
   "source": [
    "type([1, 3.5, 'apple'])"
   ]
  },
  {
   "cell_type": "markdown",
   "metadata": {},
   "source": [
    "___"
   ]
  },
  {
   "cell_type": "markdown",
   "metadata": {},
   "source": [
    "A tuple is an ordered, immutable object. Duplicate values are allowed."
   ]
  },
  {
   "cell_type": "code",
   "execution_count": 31,
   "metadata": {},
   "outputs": [
    {
     "data": {
      "text/plain": [
       "tuple"
      ]
     },
     "execution_count": 31,
     "metadata": {},
     "output_type": "execute_result"
    }
   ],
   "source": [
    "type((1, 3))"
   ]
  },
  {
   "cell_type": "code",
   "execution_count": 32,
   "metadata": {},
   "outputs": [
    {
     "data": {
      "text/plain": [
       "tuple"
      ]
     },
     "execution_count": 32,
     "metadata": {},
     "output_type": "execute_result"
    }
   ],
   "source": [
    "type(('red', 'blue'))"
   ]
  },
  {
   "cell_type": "markdown",
   "metadata": {},
   "source": [
    "___"
   ]
  },
  {
   "cell_type": "markdown",
   "metadata": {},
   "source": [
    "The `range(start, stop, step)` function creates a range object."
   ]
  },
  {
   "cell_type": "code",
   "execution_count": 33,
   "metadata": {},
   "outputs": [
    {
     "data": {
      "text/plain": [
       "range"
      ]
     },
     "execution_count": 33,
     "metadata": {},
     "output_type": "execute_result"
    }
   ],
   "source": [
    "type(range(0,10,2))"
   ]
  },
  {
   "cell_type": "markdown",
   "metadata": {},
   "source": [
    "I can wrap my range object in the built-in `list()` function to return a list of the integers specified by my range object."
   ]
  },
  {
   "cell_type": "code",
   "execution_count": 34,
   "metadata": {},
   "outputs": [
    {
     "data": {
      "text/plain": [
       "[0, 2, 4, 6, 8]"
      ]
     },
     "execution_count": 34,
     "metadata": {},
     "output_type": "execute_result"
    }
   ],
   "source": [
    "list(range(0,10,2))"
   ]
  },
  {
   "cell_type": "markdown",
   "metadata": {},
   "source": [
    "___"
   ]
  },
  {
   "cell_type": "markdown",
   "metadata": {},
   "source": [
    "#### **Mapping Type ->** `dict`"
   ]
  },
  {
   "cell_type": "markdown",
   "metadata": {},
   "source": [
    "A dictionary object is made up key:value pairs separated by a comma. It is a mutable object. *Notice the curly brackets.*"
   ]
  },
  {
   "cell_type": "code",
   "execution_count": 35,
   "metadata": {},
   "outputs": [
    {
     "data": {
      "text/plain": [
       "dict"
      ]
     },
     "execution_count": 35,
     "metadata": {},
     "output_type": "execute_result"
    }
   ],
   "source": [
    "type({'weekday': 'Thursday', 'day': 20, 'month': 'October', 'year': 2020})"
   ]
  },
  {
   "cell_type": "markdown",
   "metadata": {},
   "source": [
    "___"
   ]
  },
  {
   "cell_type": "markdown",
   "metadata": {},
   "source": [
    "#### **Set Types ->** `set`\n",
    "\n",
    "A set is an unordered and unindexed collection that is immutable and contains only unique values. *Notice the curly brackets.*"
   ]
  },
  {
   "cell_type": "code",
   "execution_count": 36,
   "metadata": {},
   "outputs": [
    {
     "data": {
      "text/plain": [
       "set"
      ]
     },
     "execution_count": 36,
     "metadata": {},
     "output_type": "execute_result"
    }
   ],
   "source": [
    "# Here I use curly brackets to create a set.\n",
    "\n",
    "type({1, 1, 2, 5})"
   ]
  },
  {
   "cell_type": "markdown",
   "metadata": {},
   "source": [
    "When I use the built-in `len()` function, I see that only the unique elements in the set are counted. *This can come in very handy when checking for unique elements in a list.*"
   ]
  },
  {
   "cell_type": "code",
   "execution_count": 37,
   "metadata": {},
   "outputs": [
    {
     "data": {
      "text/plain": [
       "3"
      ]
     },
     "execution_count": 37,
     "metadata": {},
     "output_type": "execute_result"
    }
   ],
   "source": [
    "# Set object denoted by curly brackets.\n",
    "\n",
    "len({1, 1, 2, 5})"
   ]
  },
  {
   "cell_type": "code",
   "execution_count": 38,
   "metadata": {},
   "outputs": [
    {
     "data": {
      "text/plain": [
       "4"
      ]
     },
     "execution_count": 38,
     "metadata": {},
     "output_type": "execute_result"
    }
   ],
   "source": [
    "# List object denoted by square brackets.\n",
    "\n",
    "len([1, 1, 2, 5])"
   ]
  },
  {
   "cell_type": "code",
   "execution_count": 39,
   "metadata": {},
   "outputs": [
    {
     "data": {
      "text/plain": [
       "False"
      ]
     },
     "execution_count": 39,
     "metadata": {},
     "output_type": "execute_result"
    }
   ],
   "source": [
    "# This list does not contain all unique elements.\n",
    "\n",
    "len([1, 1, 2, 5]) == len({1, 1, 2, 5})"
   ]
  },
  {
   "cell_type": "markdown",
   "metadata": {},
   "source": [
    "___"
   ]
  },
  {
   "cell_type": "markdown",
   "metadata": {},
   "source": [
    "<hr style=\"border-top: 10px groove salmon; margin-top: 1px; margin-bottom: 1px\"></hr>"
   ]
  },
  {
   "cell_type": "markdown",
   "metadata": {},
   "source": [
    "## String Manipulations"
   ]
  },
  {
   "cell_type": "markdown",
   "metadata": {},
   "source": [
    "<hr style=\"border-top: 10px groove salmon; margin-top: 1px; margin-bottom: 1px\"></hr>"
   ]
  },
  {
   "cell_type": "markdown",
   "metadata": {},
   "source": [
    "### String Methods\n",
    "\n",
    "There are a ton of useful built-in methods that can be called on Python string variables. To check out some of these methods, let's create a variable that holds a string as an example. To check out way more, check the doc [here](https://www.tutorialspoint.com/python/python_strings.htm)."
   ]
  },
  {
   "cell_type": "code",
   "execution_count": 45,
   "metadata": {},
   "outputs": [],
   "source": [
    "a_string = 'I am a string!'"
   ]
  },
  {
   "cell_type": "code",
   "execution_count": 46,
   "metadata": {},
   "outputs": [
    {
     "data": {
      "text/plain": [
       "str"
      ]
     },
     "execution_count": 46,
     "metadata": {},
     "output_type": "execute_result"
    }
   ],
   "source": [
    "type(a_string)"
   ]
  },
  {
   "cell_type": "markdown",
   "metadata": {},
   "source": [
    "___"
   ]
  },
  {
   "cell_type": "markdown",
   "metadata": {},
   "source": [
    "#### `.lower()`, `.upper()`, `.capitalize()`, `.title()`, `swapcase()`\n",
    "\n",
    "These string methods transform the characters in my string to either lowercase or uppercase in various ways. Check out the examples below:"
   ]
  },
  {
   "cell_type": "code",
   "execution_count": 47,
   "metadata": {},
   "outputs": [
    {
     "data": {
      "text/plain": [
       "'i am a string!'"
      ]
     },
     "execution_count": 47,
     "metadata": {},
     "output_type": "execute_result"
    }
   ],
   "source": [
    "a_string.lower()"
   ]
  },
  {
   "cell_type": "code",
   "execution_count": 50,
   "metadata": {},
   "outputs": [
    {
     "data": {
      "text/plain": [
       "'I AM A STRING!'"
      ]
     },
     "execution_count": 50,
     "metadata": {},
     "output_type": "execute_result"
    }
   ],
   "source": [
    "a_string.upper()"
   ]
  },
  {
   "cell_type": "code",
   "execution_count": 48,
   "metadata": {},
   "outputs": [
    {
     "data": {
      "text/plain": [
       "'I am a string!'"
      ]
     },
     "execution_count": 48,
     "metadata": {},
     "output_type": "execute_result"
    }
   ],
   "source": [
    "a_string.capitalize()"
   ]
  },
  {
   "cell_type": "code",
   "execution_count": 49,
   "metadata": {},
   "outputs": [
    {
     "data": {
      "text/plain": [
       "'I Am A String!'"
      ]
     },
     "execution_count": 49,
     "metadata": {},
     "output_type": "execute_result"
    }
   ],
   "source": [
    "a_string.title()"
   ]
  },
  {
   "cell_type": "code",
   "execution_count": 52,
   "metadata": {},
   "outputs": [
    {
     "data": {
      "text/plain": [
       "'i AM A STRING!'"
      ]
     },
     "execution_count": 52,
     "metadata": {},
     "output_type": "execute_result"
    }
   ],
   "source": [
    "a_string.swapcase()"
   ]
  },
  {
   "cell_type": "code",
   "execution_count": 51,
   "metadata": {},
   "outputs": [
    {
     "data": {
      "text/plain": [
       "'I am a string!'"
      ]
     },
     "execution_count": 51,
     "metadata": {},
     "output_type": "execute_result"
    }
   ],
   "source": [
    "# Using a string method doesn't mutate my original string; it returns a copy I can use or assign.\n",
    "\n",
    "a_string"
   ]
  },
  {
   "cell_type": "markdown",
   "metadata": {},
   "source": [
    "___"
   ]
  },
  {
   "cell_type": "markdown",
   "metadata": {},
   "source": [
    "#### `.strip()`, `.replace()`\n",
    "\n",
    "These string methods are useful to perform a little string cleanup by removing any whitespace from the beginning or end of my string and replacing a string with another string.\n",
    "```python\n",
    "# default for strip is to take out whitespace.\n",
    "\n",
    "str.strip([chars])\n",
    "str.lstrip([chars])\n",
    "str.rstrip([chars])\n",
    "\n",
    "# default replaces all occurances of the old with the new; this can be adjusted.\n",
    "\n",
    "string.replace(old, new, [count=-1])\n",
    "```"
   ]
  },
  {
   "cell_type": "code",
   "execution_count": 55,
   "metadata": {},
   "outputs": [],
   "source": [
    "a_string = ' I am a string. I am a messy string! '"
   ]
  },
  {
   "cell_type": "code",
   "execution_count": 56,
   "metadata": {},
   "outputs": [
    {
     "data": {
      "text/plain": [
       "'I am a string. I am a messy string!'"
      ]
     },
     "execution_count": 56,
     "metadata": {},
     "output_type": "execute_result"
    }
   ],
   "source": [
    "# Strip whitespace from beginning and end of string.\n",
    "\n",
    "a_string.strip()"
   ]
  },
  {
   "cell_type": "code",
   "execution_count": 57,
   "metadata": {},
   "outputs": [
    {
     "data": {
      "text/plain": [
       "'I am a string. I am a messy string! '"
      ]
     },
     "execution_count": 57,
     "metadata": {},
     "output_type": "execute_result"
    }
   ],
   "source": [
    "# Strip whitespace from beginning of string.\n",
    "\n",
    "a_string.lstrip()"
   ]
  },
  {
   "cell_type": "code",
   "execution_count": 58,
   "metadata": {},
   "outputs": [
    {
     "data": {
      "text/plain": [
       "' I am a string. I am a messy string!'"
      ]
     },
     "execution_count": 58,
     "metadata": {},
     "output_type": "execute_result"
    }
   ],
   "source": [
    "# Strip whitespace from end of string.\n",
    "\n",
    "a_string.rstrip()"
   ]
  },
  {
   "cell_type": "code",
   "execution_count": 59,
   "metadata": {},
   "outputs": [],
   "source": [
    "b_string = '!?I have junk at the front I don\\'t need.'"
   ]
  },
  {
   "cell_type": "code",
   "execution_count": 60,
   "metadata": {},
   "outputs": [
    {
     "data": {
      "text/plain": [
       "\"I have junk at the front I don't need.\""
      ]
     },
     "execution_count": 60,
     "metadata": {},
     "output_type": "execute_result"
    }
   ],
   "source": [
    "# The default is whitespace, but I can strip out other characters as well.\n",
    "\n",
    "b_string.strip('!?')"
   ]
  },
  {
   "cell_type": "markdown",
   "metadata": {},
   "source": [
    "___"
   ]
  },
  {
   "cell_type": "code",
   "execution_count": 61,
   "metadata": {},
   "outputs": [
    {
     "data": {
      "text/plain": [
       "' I am a something. I am a messy something! '"
      ]
     },
     "execution_count": 61,
     "metadata": {},
     "output_type": "execute_result"
    }
   ],
   "source": [
    "a_string.replace('string', 'something')"
   ]
  },
  {
   "cell_type": "code",
   "execution_count": 64,
   "metadata": {},
   "outputs": [
    {
     "data": {
      "text/plain": [
       "' I am a something. I am a messy string! '"
      ]
     },
     "execution_count": 64,
     "metadata": {},
     "output_type": "execute_result"
    }
   ],
   "source": [
    "# I can pass in a number of occurances to replace if I don't want to replace them all.\n",
    "\n",
    "a_string.replace('string', 'something', 1)"
   ]
  },
  {
   "cell_type": "markdown",
   "metadata": {},
   "source": [
    "___"
   ]
  },
  {
   "cell_type": "markdown",
   "metadata": {},
   "source": [
    "#### `.isalnum()`, `.isalpha()`, `.isdigit()`\n",
    "\n",
    "These handy string methods return a bool value telling me if all of the characters in the string are either alphanumberic, alphabetic, or digits respectively."
   ]
  },
  {
   "cell_type": "code",
   "execution_count": 87,
   "metadata": {},
   "outputs": [],
   "source": [
    "# Define variables for use below\n",
    "\n",
    "alpha = 'alphabetic'\n",
    "alphanumeric = 'N8all9'\n",
    "digits = '210'"
   ]
  },
  {
   "cell_type": "code",
   "execution_count": 88,
   "metadata": {},
   "outputs": [
    {
     "data": {
      "text/plain": [
       "True"
      ]
     },
     "execution_count": 88,
     "metadata": {},
     "output_type": "execute_result"
    }
   ],
   "source": [
    "alpha.isalpha()"
   ]
  },
  {
   "cell_type": "code",
   "execution_count": 89,
   "metadata": {},
   "outputs": [
    {
     "data": {
      "text/plain": [
       "False"
      ]
     },
     "execution_count": 89,
     "metadata": {},
     "output_type": "execute_result"
    }
   ],
   "source": [
    "alphanumeric.isalnum()"
   ]
  },
  {
   "cell_type": "code",
   "execution_count": null,
   "metadata": {},
   "outputs": [],
   "source": []
  },
  {
   "cell_type": "markdown",
   "metadata": {},
   "source": [
    "<hr style=\"border-top: 10px groove salmon; margin-top: 1px; margin-bottom: 1px\"></hr>"
   ]
  },
  {
   "cell_type": "markdown",
   "metadata": {},
   "source": [
    "## String Formatting"
   ]
  },
  {
   "cell_type": "markdown",
   "metadata": {},
   "source": [
    "<hr style=\"border-top: 10px groove salmon; margin-top: 1px; margin-bottom: 1px\"></hr>"
   ]
  },
  {
   "cell_type": "code",
   "execution_count": null,
   "metadata": {},
   "outputs": [],
   "source": []
  },
  {
   "cell_type": "code",
   "execution_count": null,
   "metadata": {},
   "outputs": [],
   "source": []
  },
  {
   "cell_type": "code",
   "execution_count": null,
   "metadata": {},
   "outputs": [],
   "source": []
  },
  {
   "cell_type": "markdown",
   "metadata": {},
   "source": [
    "<hr style=\"border-top: 10px groove salmon; margin-top: 1px; margin-bottom: 1px\"></hr>"
   ]
  },
  {
   "cell_type": "markdown",
   "metadata": {},
   "source": [
    "## Handy Keywords"
   ]
  },
  {
   "cell_type": "markdown",
   "metadata": {},
   "source": [
    "<hr style=\"border-top: 10px groove salmon; margin-top: 1px; margin-bottom: 1px\"></hr>"
   ]
  },
  {
   "cell_type": "markdown",
   "metadata": {},
   "source": [
    "#### `in`, `not in` \n",
    "\n",
    "These are two very useful keywords/keyword phrases used to check a string for the presence of a certain phrase or character(s)."
   ]
  },
  {
   "cell_type": "code",
   "execution_count": 79,
   "metadata": {},
   "outputs": [],
   "source": [
    "# Define variables for use below.\n",
    "\n",
    "vowels = 'aeiouAEIOU'\n",
    "o_string = 'o'\n",
    "p_string = 'P'"
   ]
  },
  {
   "cell_type": "code",
   "execution_count": 80,
   "metadata": {},
   "outputs": [
    {
     "data": {
      "text/plain": [
       "True"
      ]
     },
     "execution_count": 80,
     "metadata": {},
     "output_type": "execute_result"
    }
   ],
   "source": [
    "o_string in vowels"
   ]
  },
  {
   "cell_type": "code",
   "execution_count": 81,
   "metadata": {},
   "outputs": [
    {
     "data": {
      "text/plain": [
       "True"
      ]
     },
     "execution_count": 81,
     "metadata": {},
     "output_type": "execute_result"
    }
   ],
   "source": [
    "p_string not in vowels"
   ]
  },
  {
   "cell_type": "code",
   "execution_count": 84,
   "metadata": {},
   "outputs": [
    {
     "name": "stdout",
     "output_type": "stream",
     "text": [
      "!?I have junk at the front I don't need.\n"
     ]
    }
   ],
   "source": [
    "# Print out the string stored in my `b_string` variable.\n",
    "\n",
    "print(b_string)"
   ]
  },
  {
   "cell_type": "code",
   "execution_count": 83,
   "metadata": {},
   "outputs": [
    {
     "data": {
      "text/plain": [
       "True"
      ]
     },
     "execution_count": 83,
     "metadata": {},
     "output_type": "execute_result"
    }
   ],
   "source": [
    "'junk' in b_string"
   ]
  },
  {
   "cell_type": "markdown",
   "metadata": {},
   "source": [
    "____"
   ]
  },
  {
   "cell_type": "markdown",
   "metadata": {},
   "source": [
    "<hr style=\"border-top: 10px groove salmon; margin-top: 1px; margin-bottom: 1px\"></hr>"
   ]
  },
  {
   "cell_type": "markdown",
   "metadata": {},
   "source": [
    "## String Indexing"
   ]
  },
  {
   "cell_type": "markdown",
   "metadata": {},
   "source": [
    "<hr style=\"border-top: 10px groove salmon; margin-top: 1px; margin-bottom: 1px\"></hr>"
   ]
  },
  {
   "cell_type": "code",
   "execution_count": null,
   "metadata": {},
   "outputs": [],
   "source": []
  }
 ],
 "metadata": {
  "kernelspec": {
   "display_name": "Python 3",
   "language": "python",
   "name": "python3"
  },
  "language_info": {
   "codemirror_mode": {
    "name": "ipython",
    "version": 3
   },
   "file_extension": ".py",
   "mimetype": "text/x-python",
   "name": "python",
   "nbconvert_exporter": "python",
   "pygments_lexer": "ipython3",
   "version": "3.7.4"
  }
 },
 "nbformat": 4,
 "nbformat_minor": 4
}
